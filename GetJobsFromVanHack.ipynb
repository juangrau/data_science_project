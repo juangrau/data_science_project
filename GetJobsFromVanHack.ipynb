{
 "cells": [
  {
   "cell_type": "markdown",
   "metadata": {},
   "source": [
    "# Get the libraries"
   ]
  },
  {
   "cell_type": "code",
   "execution_count": 854,
   "metadata": {
    "collapsed": true
   },
   "outputs": [],
   "source": [
    "from bs4 import BeautifulSoup\n",
    "import urllib.request\n",
    "import pandas as pd\n"
   ]
  },
  {
   "cell_type": "markdown",
   "metadata": {},
   "source": [
    "# Job Data Acquisition"
   ]
  },
  {
   "cell_type": "markdown",
   "metadata": {},
   "source": [
    "Open the VanHack Job page and parse it using BeautifulSoup library"
   ]
  },
  {
   "cell_type": "code",
   "execution_count": 163,
   "metadata": {
    "collapsed": true
   },
   "outputs": [],
   "source": [
    "jobpage = urrli.request.urlopen('https://app.vanhack.com/')"
   ]
  },
  {
   "cell_type": "code",
   "execution_count": 164,
   "metadata": {
    "collapsed": true
   },
   "outputs": [],
   "source": [
    "soup = BeautifulSoup(jobpage, 'html.parser')"
   ]
  },
  {
   "cell_type": "markdown",
   "metadata": {},
   "source": [
    "Get all the div into one list for further analysis"
   ]
  },
  {
   "cell_type": "code",
   "execution_count": 165,
   "metadata": {
    "collapsed": true
   },
   "outputs": [],
   "source": [
    "job_list = soup.findAll('div')"
   ]
  },
  {
   "cell_type": "markdown",
   "metadata": {},
   "source": [
    "The jobs found on the first page of the site have the attribute 'data-id'. I get the first one as is the most recent job available"
   ]
  },
  {
   "cell_type": "code",
   "execution_count": 166,
   "metadata": {
    "collapsed": true
   },
   "outputs": [],
   "source": [
    "for element in job_list:\n",
    "    if(element.get('data-id')):\n",
    "        lastJobId = int(element.get('data-id'))\n",
    "        #print(lastJobId)\n",
    "        break"
   ]
  },
  {
   "cell_type": "markdown",
   "metadata": {},
   "source": [
    "For this demo project I'm using the last 100 jobs on the site. So the next step is to do more web scrapping on VanHack jobs getting the information for each of the job posting."
   ]
  },
  {
   "cell_type": "code",
   "execution_count": 936,
   "metadata": {
    "collapsed": true
   },
   "outputs": [],
   "source": [
    "numberOfJobs = 100  # you can change this number to modify the number of jobs to get from VanHack site."
   ]
  },
  {
   "cell_type": "code",
   "execution_count": 937,
   "metadata": {
    "collapsed": true
   },
   "outputs": [],
   "source": [
    "#define dataset columns and create the dataframe\n",
    "general_column_names = ['job_title', 'city', 'country']\n",
    "jobs_df = pd.DataFrame(columns=general_column_names)"
   ]
  },
  {
   "cell_type": "markdown",
   "metadata": {},
   "source": [
    "# Web Scrapping VanHack Jobs site"
   ]
  },
  {
   "cell_type": "code",
   "execution_count": 938,
   "metadata": {
    "collapsed": true
   },
   "outputs": [],
   "source": [
    "for i in range(lastJobId- numberOfJobs, lastJobId+1):\n",
    "    job_detail_page = urllib.request.urlopen('https://app.vanhack.com/JobBoard/JobDetails?idJob=' + str(i))\n",
    "    soup = BeautifulSoup(job_detail_page, 'html.parser')\n",
    "    \n",
    "    #job title\n",
    "    job_title = soup.find('h1', attrs={'class':'page-title'})\n",
    "    \n",
    "    #location\n",
    "    aux_blocks = soup.findAll('div', attrs={'class':'block-list-aux'})\n",
    "    location_block = aux_blocks[0].find('p', attrs={'class':'text-block-subtitle'})\n",
    "    city = location_block.text.split('-')[0]\n",
    "    country = location_block.text.split('-')[1]\n",
    "    \n",
    "    #skills -> lets create a column for each different skill obtained during the webscrapping\n",
    "    articles = soup.findAll('article')\n",
    "    skills = (articles[1].find('ul'))\n",
    "    skills_list = []\n",
    "    buff = []\n",
    "    for c in skills.text:\n",
    "        if c == '\\n':\n",
    "            skills_list.append(''.join(buff))\n",
    "            buff = []\n",
    "        else:\n",
    "            buff.append(c)\n",
    "    if(skills_list[0]==''):\n",
    "        skills_list.pop(0)\n",
    "        \n",
    "    skills_column_names = skills_list\n",
    "    \n",
    "    row = [job_title.text, city, country] + [1] * len(skills_list)\n",
    "    \n",
    "    tmp = pd.DataFrame([row], columns=general_column_names+skills_column_names)      \n",
    "    jobs_df = jobs_df.append(tmp, ignore_index=True)\n"
   ]
  },
  {
   "cell_type": "code",
   "execution_count": 939,
   "metadata": {},
   "outputs": [
    {
     "data": {
      "text/plain": [
       "(101, 242)"
      ]
     },
     "execution_count": 939,
     "metadata": {},
     "output_type": "execute_result"
    }
   ],
   "source": [
    "jobs_df.shape"
   ]
  },
  {
   "cell_type": "code",
   "execution_count": 940,
   "metadata": {},
   "outputs": [
    {
     "data": {
      "text/html": [
       "<div>\n",
       "<style>\n",
       "    .dataframe thead tr:only-child th {\n",
       "        text-align: right;\n",
       "    }\n",
       "\n",
       "    .dataframe thead th {\n",
       "        text-align: left;\n",
       "    }\n",
       "\n",
       "    .dataframe tbody tr th {\n",
       "        vertical-align: top;\n",
       "    }\n",
       "</style>\n",
       "<table border=\"1\" class=\"dataframe\">\n",
       "  <thead>\n",
       "    <tr style=\"text-align: right;\">\n",
       "      <th></th>\n",
       "      <th>.net</th>\n",
       "      <th>3d design</th>\n",
       "      <th>Big Data</th>\n",
       "      <th>NetSuite</th>\n",
       "      <th>adwords</th>\n",
       "      <th>agile</th>\n",
       "      <th>agile methodologies</th>\n",
       "      <th>alamofire</th>\n",
       "      <th>amazon web services</th>\n",
       "      <th>analysis</th>\n",
       "      <th>...</th>\n",
       "      <th>web server</th>\n",
       "      <th>webpack</th>\n",
       "      <th>websocket</th>\n",
       "      <th>windows</th>\n",
       "      <th>wordpress</th>\n",
       "      <th>wpf</th>\n",
       "      <th>xaml</th>\n",
       "      <th>xcode</th>\n",
       "      <th>xml</th>\n",
       "      <th>zend framework</th>\n",
       "    </tr>\n",
       "  </thead>\n",
       "  <tbody>\n",
       "    <tr>\n",
       "      <th>0</th>\n",
       "      <td>NaN</td>\n",
       "      <td>NaN</td>\n",
       "      <td>NaN</td>\n",
       "      <td>NaN</td>\n",
       "      <td>NaN</td>\n",
       "      <td>NaN</td>\n",
       "      <td>NaN</td>\n",
       "      <td>NaN</td>\n",
       "      <td>NaN</td>\n",
       "      <td>NaN</td>\n",
       "      <td>...</td>\n",
       "      <td>NaN</td>\n",
       "      <td>NaN</td>\n",
       "      <td>NaN</td>\n",
       "      <td>NaN</td>\n",
       "      <td>NaN</td>\n",
       "      <td>NaN</td>\n",
       "      <td>NaN</td>\n",
       "      <td>NaN</td>\n",
       "      <td>NaN</td>\n",
       "      <td>NaN</td>\n",
       "    </tr>\n",
       "    <tr>\n",
       "      <th>1</th>\n",
       "      <td>NaN</td>\n",
       "      <td>NaN</td>\n",
       "      <td>NaN</td>\n",
       "      <td>NaN</td>\n",
       "      <td>NaN</td>\n",
       "      <td>NaN</td>\n",
       "      <td>NaN</td>\n",
       "      <td>NaN</td>\n",
       "      <td>NaN</td>\n",
       "      <td>NaN</td>\n",
       "      <td>...</td>\n",
       "      <td>NaN</td>\n",
       "      <td>NaN</td>\n",
       "      <td>NaN</td>\n",
       "      <td>NaN</td>\n",
       "      <td>NaN</td>\n",
       "      <td>NaN</td>\n",
       "      <td>NaN</td>\n",
       "      <td>NaN</td>\n",
       "      <td>NaN</td>\n",
       "      <td>NaN</td>\n",
       "    </tr>\n",
       "    <tr>\n",
       "      <th>2</th>\n",
       "      <td>NaN</td>\n",
       "      <td>NaN</td>\n",
       "      <td>1.0</td>\n",
       "      <td>NaN</td>\n",
       "      <td>NaN</td>\n",
       "      <td>NaN</td>\n",
       "      <td>NaN</td>\n",
       "      <td>NaN</td>\n",
       "      <td>NaN</td>\n",
       "      <td>NaN</td>\n",
       "      <td>...</td>\n",
       "      <td>NaN</td>\n",
       "      <td>NaN</td>\n",
       "      <td>NaN</td>\n",
       "      <td>NaN</td>\n",
       "      <td>NaN</td>\n",
       "      <td>NaN</td>\n",
       "      <td>NaN</td>\n",
       "      <td>NaN</td>\n",
       "      <td>NaN</td>\n",
       "      <td>NaN</td>\n",
       "    </tr>\n",
       "    <tr>\n",
       "      <th>3</th>\n",
       "      <td>NaN</td>\n",
       "      <td>NaN</td>\n",
       "      <td>NaN</td>\n",
       "      <td>NaN</td>\n",
       "      <td>NaN</td>\n",
       "      <td>NaN</td>\n",
       "      <td>NaN</td>\n",
       "      <td>NaN</td>\n",
       "      <td>NaN</td>\n",
       "      <td>NaN</td>\n",
       "      <td>...</td>\n",
       "      <td>NaN</td>\n",
       "      <td>NaN</td>\n",
       "      <td>NaN</td>\n",
       "      <td>NaN</td>\n",
       "      <td>NaN</td>\n",
       "      <td>NaN</td>\n",
       "      <td>NaN</td>\n",
       "      <td>NaN</td>\n",
       "      <td>NaN</td>\n",
       "      <td>NaN</td>\n",
       "    </tr>\n",
       "    <tr>\n",
       "      <th>4</th>\n",
       "      <td>NaN</td>\n",
       "      <td>NaN</td>\n",
       "      <td>NaN</td>\n",
       "      <td>NaN</td>\n",
       "      <td>NaN</td>\n",
       "      <td>NaN</td>\n",
       "      <td>NaN</td>\n",
       "      <td>NaN</td>\n",
       "      <td>NaN</td>\n",
       "      <td>NaN</td>\n",
       "      <td>...</td>\n",
       "      <td>NaN</td>\n",
       "      <td>NaN</td>\n",
       "      <td>NaN</td>\n",
       "      <td>NaN</td>\n",
       "      <td>NaN</td>\n",
       "      <td>NaN</td>\n",
       "      <td>NaN</td>\n",
       "      <td>NaN</td>\n",
       "      <td>NaN</td>\n",
       "      <td>NaN</td>\n",
       "    </tr>\n",
       "    <tr>\n",
       "      <th>5</th>\n",
       "      <td>NaN</td>\n",
       "      <td>NaN</td>\n",
       "      <td>NaN</td>\n",
       "      <td>NaN</td>\n",
       "      <td>NaN</td>\n",
       "      <td>NaN</td>\n",
       "      <td>NaN</td>\n",
       "      <td>NaN</td>\n",
       "      <td>NaN</td>\n",
       "      <td>NaN</td>\n",
       "      <td>...</td>\n",
       "      <td>NaN</td>\n",
       "      <td>1.0</td>\n",
       "      <td>NaN</td>\n",
       "      <td>NaN</td>\n",
       "      <td>NaN</td>\n",
       "      <td>NaN</td>\n",
       "      <td>NaN</td>\n",
       "      <td>NaN</td>\n",
       "      <td>NaN</td>\n",
       "      <td>NaN</td>\n",
       "    </tr>\n",
       "    <tr>\n",
       "      <th>6</th>\n",
       "      <td>NaN</td>\n",
       "      <td>NaN</td>\n",
       "      <td>NaN</td>\n",
       "      <td>NaN</td>\n",
       "      <td>NaN</td>\n",
       "      <td>NaN</td>\n",
       "      <td>NaN</td>\n",
       "      <td>NaN</td>\n",
       "      <td>NaN</td>\n",
       "      <td>NaN</td>\n",
       "      <td>...</td>\n",
       "      <td>NaN</td>\n",
       "      <td>NaN</td>\n",
       "      <td>NaN</td>\n",
       "      <td>NaN</td>\n",
       "      <td>NaN</td>\n",
       "      <td>NaN</td>\n",
       "      <td>NaN</td>\n",
       "      <td>NaN</td>\n",
       "      <td>NaN</td>\n",
       "      <td>NaN</td>\n",
       "    </tr>\n",
       "    <tr>\n",
       "      <th>7</th>\n",
       "      <td>NaN</td>\n",
       "      <td>NaN</td>\n",
       "      <td>NaN</td>\n",
       "      <td>NaN</td>\n",
       "      <td>NaN</td>\n",
       "      <td>NaN</td>\n",
       "      <td>NaN</td>\n",
       "      <td>NaN</td>\n",
       "      <td>NaN</td>\n",
       "      <td>NaN</td>\n",
       "      <td>...</td>\n",
       "      <td>NaN</td>\n",
       "      <td>NaN</td>\n",
       "      <td>NaN</td>\n",
       "      <td>NaN</td>\n",
       "      <td>NaN</td>\n",
       "      <td>NaN</td>\n",
       "      <td>NaN</td>\n",
       "      <td>NaN</td>\n",
       "      <td>NaN</td>\n",
       "      <td>NaN</td>\n",
       "    </tr>\n",
       "    <tr>\n",
       "      <th>8</th>\n",
       "      <td>NaN</td>\n",
       "      <td>NaN</td>\n",
       "      <td>NaN</td>\n",
       "      <td>NaN</td>\n",
       "      <td>NaN</td>\n",
       "      <td>NaN</td>\n",
       "      <td>NaN</td>\n",
       "      <td>NaN</td>\n",
       "      <td>NaN</td>\n",
       "      <td>NaN</td>\n",
       "      <td>...</td>\n",
       "      <td>NaN</td>\n",
       "      <td>NaN</td>\n",
       "      <td>NaN</td>\n",
       "      <td>NaN</td>\n",
       "      <td>NaN</td>\n",
       "      <td>NaN</td>\n",
       "      <td>NaN</td>\n",
       "      <td>NaN</td>\n",
       "      <td>NaN</td>\n",
       "      <td>NaN</td>\n",
       "    </tr>\n",
       "    <tr>\n",
       "      <th>9</th>\n",
       "      <td>NaN</td>\n",
       "      <td>NaN</td>\n",
       "      <td>NaN</td>\n",
       "      <td>NaN</td>\n",
       "      <td>NaN</td>\n",
       "      <td>NaN</td>\n",
       "      <td>NaN</td>\n",
       "      <td>NaN</td>\n",
       "      <td>NaN</td>\n",
       "      <td>NaN</td>\n",
       "      <td>...</td>\n",
       "      <td>NaN</td>\n",
       "      <td>NaN</td>\n",
       "      <td>NaN</td>\n",
       "      <td>NaN</td>\n",
       "      <td>NaN</td>\n",
       "      <td>NaN</td>\n",
       "      <td>NaN</td>\n",
       "      <td>NaN</td>\n",
       "      <td>NaN</td>\n",
       "      <td>NaN</td>\n",
       "    </tr>\n",
       "  </tbody>\n",
       "</table>\n",
       "<p>10 rows × 242 columns</p>\n",
       "</div>"
      ],
      "text/plain": [
       "   .net  3d design  Big Data   NetSuite  adwords  agile  agile methodologies  \\\n",
       "0   NaN        NaN        NaN       NaN      NaN    NaN                  NaN   \n",
       "1   NaN        NaN        NaN       NaN      NaN    NaN                  NaN   \n",
       "2   NaN        NaN        1.0       NaN      NaN    NaN                  NaN   \n",
       "3   NaN        NaN        NaN       NaN      NaN    NaN                  NaN   \n",
       "4   NaN        NaN        NaN       NaN      NaN    NaN                  NaN   \n",
       "5   NaN        NaN        NaN       NaN      NaN    NaN                  NaN   \n",
       "6   NaN        NaN        NaN       NaN      NaN    NaN                  NaN   \n",
       "7   NaN        NaN        NaN       NaN      NaN    NaN                  NaN   \n",
       "8   NaN        NaN        NaN       NaN      NaN    NaN                  NaN   \n",
       "9   NaN        NaN        NaN       NaN      NaN    NaN                  NaN   \n",
       "\n",
       "   alamofire  amazon web services  analysis       ...        web server  \\\n",
       "0        NaN                  NaN       NaN       ...               NaN   \n",
       "1        NaN                  NaN       NaN       ...               NaN   \n",
       "2        NaN                  NaN       NaN       ...               NaN   \n",
       "3        NaN                  NaN       NaN       ...               NaN   \n",
       "4        NaN                  NaN       NaN       ...               NaN   \n",
       "5        NaN                  NaN       NaN       ...               NaN   \n",
       "6        NaN                  NaN       NaN       ...               NaN   \n",
       "7        NaN                  NaN       NaN       ...               NaN   \n",
       "8        NaN                  NaN       NaN       ...               NaN   \n",
       "9        NaN                  NaN       NaN       ...               NaN   \n",
       "\n",
       "   webpack  websocket  windows  wordpress  wpf  xaml  xcode  xml  \\\n",
       "0      NaN        NaN      NaN        NaN  NaN   NaN    NaN  NaN   \n",
       "1      NaN        NaN      NaN        NaN  NaN   NaN    NaN  NaN   \n",
       "2      NaN        NaN      NaN        NaN  NaN   NaN    NaN  NaN   \n",
       "3      NaN        NaN      NaN        NaN  NaN   NaN    NaN  NaN   \n",
       "4      NaN        NaN      NaN        NaN  NaN   NaN    NaN  NaN   \n",
       "5      1.0        NaN      NaN        NaN  NaN   NaN    NaN  NaN   \n",
       "6      NaN        NaN      NaN        NaN  NaN   NaN    NaN  NaN   \n",
       "7      NaN        NaN      NaN        NaN  NaN   NaN    NaN  NaN   \n",
       "8      NaN        NaN      NaN        NaN  NaN   NaN    NaN  NaN   \n",
       "9      NaN        NaN      NaN        NaN  NaN   NaN    NaN  NaN   \n",
       "\n",
       "   zend framework  \n",
       "0             NaN  \n",
       "1             NaN  \n",
       "2             NaN  \n",
       "3             NaN  \n",
       "4             NaN  \n",
       "5             NaN  \n",
       "6             NaN  \n",
       "7             NaN  \n",
       "8             NaN  \n",
       "9             NaN  \n",
       "\n",
       "[10 rows x 242 columns]"
      ]
     },
     "execution_count": 940,
     "metadata": {},
     "output_type": "execute_result"
    }
   ],
   "source": [
    "# just to display a sample of what we got\n",
    "jobs_df.head(10)"
   ]
  },
  {
   "cell_type": "markdown",
   "metadata": {},
   "source": [
    "There is a lot of NaN values on the skills columns as each job has its own skills requirements"
   ]
  },
  {
   "cell_type": "code",
   "execution_count": 941,
   "metadata": {
    "collapsed": true
   },
   "outputs": [],
   "source": [
    "# fill the Skills NaN values with 0\n",
    "jobs_df = jobs_df.fillna(value=0)"
   ]
  },
  {
   "cell_type": "code",
   "execution_count": 942,
   "metadata": {},
   "outputs": [
    {
     "data": {
      "text/html": [
       "<div>\n",
       "<style>\n",
       "    .dataframe thead tr:only-child th {\n",
       "        text-align: right;\n",
       "    }\n",
       "\n",
       "    .dataframe thead th {\n",
       "        text-align: left;\n",
       "    }\n",
       "\n",
       "    .dataframe tbody tr th {\n",
       "        vertical-align: top;\n",
       "    }\n",
       "</style>\n",
       "<table border=\"1\" class=\"dataframe\">\n",
       "  <thead>\n",
       "    <tr style=\"text-align: right;\">\n",
       "      <th></th>\n",
       "      <th>.net</th>\n",
       "      <th>3d design</th>\n",
       "      <th>Big Data</th>\n",
       "      <th>NetSuite</th>\n",
       "      <th>adwords</th>\n",
       "      <th>agile</th>\n",
       "      <th>agile methodologies</th>\n",
       "      <th>alamofire</th>\n",
       "      <th>amazon web services</th>\n",
       "      <th>analysis</th>\n",
       "      <th>...</th>\n",
       "      <th>web server</th>\n",
       "      <th>webpack</th>\n",
       "      <th>websocket</th>\n",
       "      <th>windows</th>\n",
       "      <th>wordpress</th>\n",
       "      <th>wpf</th>\n",
       "      <th>xaml</th>\n",
       "      <th>xcode</th>\n",
       "      <th>xml</th>\n",
       "      <th>zend framework</th>\n",
       "    </tr>\n",
       "  </thead>\n",
       "  <tbody>\n",
       "    <tr>\n",
       "      <th>0</th>\n",
       "      <td>0.0</td>\n",
       "      <td>0.0</td>\n",
       "      <td>0.0</td>\n",
       "      <td>0.0</td>\n",
       "      <td>0.0</td>\n",
       "      <td>0.0</td>\n",
       "      <td>0.0</td>\n",
       "      <td>0.0</td>\n",
       "      <td>0.0</td>\n",
       "      <td>0.0</td>\n",
       "      <td>...</td>\n",
       "      <td>0.0</td>\n",
       "      <td>0.0</td>\n",
       "      <td>0.0</td>\n",
       "      <td>0.0</td>\n",
       "      <td>0.0</td>\n",
       "      <td>0.0</td>\n",
       "      <td>0.0</td>\n",
       "      <td>0.0</td>\n",
       "      <td>0.0</td>\n",
       "      <td>0.0</td>\n",
       "    </tr>\n",
       "    <tr>\n",
       "      <th>1</th>\n",
       "      <td>0.0</td>\n",
       "      <td>0.0</td>\n",
       "      <td>0.0</td>\n",
       "      <td>0.0</td>\n",
       "      <td>0.0</td>\n",
       "      <td>0.0</td>\n",
       "      <td>0.0</td>\n",
       "      <td>0.0</td>\n",
       "      <td>0.0</td>\n",
       "      <td>0.0</td>\n",
       "      <td>...</td>\n",
       "      <td>0.0</td>\n",
       "      <td>0.0</td>\n",
       "      <td>0.0</td>\n",
       "      <td>0.0</td>\n",
       "      <td>0.0</td>\n",
       "      <td>0.0</td>\n",
       "      <td>0.0</td>\n",
       "      <td>0.0</td>\n",
       "      <td>0.0</td>\n",
       "      <td>0.0</td>\n",
       "    </tr>\n",
       "    <tr>\n",
       "      <th>2</th>\n",
       "      <td>0.0</td>\n",
       "      <td>0.0</td>\n",
       "      <td>1.0</td>\n",
       "      <td>0.0</td>\n",
       "      <td>0.0</td>\n",
       "      <td>0.0</td>\n",
       "      <td>0.0</td>\n",
       "      <td>0.0</td>\n",
       "      <td>0.0</td>\n",
       "      <td>0.0</td>\n",
       "      <td>...</td>\n",
       "      <td>0.0</td>\n",
       "      <td>0.0</td>\n",
       "      <td>0.0</td>\n",
       "      <td>0.0</td>\n",
       "      <td>0.0</td>\n",
       "      <td>0.0</td>\n",
       "      <td>0.0</td>\n",
       "      <td>0.0</td>\n",
       "      <td>0.0</td>\n",
       "      <td>0.0</td>\n",
       "    </tr>\n",
       "    <tr>\n",
       "      <th>3</th>\n",
       "      <td>0.0</td>\n",
       "      <td>0.0</td>\n",
       "      <td>0.0</td>\n",
       "      <td>0.0</td>\n",
       "      <td>0.0</td>\n",
       "      <td>0.0</td>\n",
       "      <td>0.0</td>\n",
       "      <td>0.0</td>\n",
       "      <td>0.0</td>\n",
       "      <td>0.0</td>\n",
       "      <td>...</td>\n",
       "      <td>0.0</td>\n",
       "      <td>0.0</td>\n",
       "      <td>0.0</td>\n",
       "      <td>0.0</td>\n",
       "      <td>0.0</td>\n",
       "      <td>0.0</td>\n",
       "      <td>0.0</td>\n",
       "      <td>0.0</td>\n",
       "      <td>0.0</td>\n",
       "      <td>0.0</td>\n",
       "    </tr>\n",
       "    <tr>\n",
       "      <th>4</th>\n",
       "      <td>0.0</td>\n",
       "      <td>0.0</td>\n",
       "      <td>0.0</td>\n",
       "      <td>0.0</td>\n",
       "      <td>0.0</td>\n",
       "      <td>0.0</td>\n",
       "      <td>0.0</td>\n",
       "      <td>0.0</td>\n",
       "      <td>0.0</td>\n",
       "      <td>0.0</td>\n",
       "      <td>...</td>\n",
       "      <td>0.0</td>\n",
       "      <td>0.0</td>\n",
       "      <td>0.0</td>\n",
       "      <td>0.0</td>\n",
       "      <td>0.0</td>\n",
       "      <td>0.0</td>\n",
       "      <td>0.0</td>\n",
       "      <td>0.0</td>\n",
       "      <td>0.0</td>\n",
       "      <td>0.0</td>\n",
       "    </tr>\n",
       "  </tbody>\n",
       "</table>\n",
       "<p>5 rows × 242 columns</p>\n",
       "</div>"
      ],
      "text/plain": [
       "   .net  3d design  Big Data   NetSuite  adwords  agile  agile methodologies  \\\n",
       "0   0.0        0.0        0.0       0.0      0.0    0.0                  0.0   \n",
       "1   0.0        0.0        0.0       0.0      0.0    0.0                  0.0   \n",
       "2   0.0        0.0        1.0       0.0      0.0    0.0                  0.0   \n",
       "3   0.0        0.0        0.0       0.0      0.0    0.0                  0.0   \n",
       "4   0.0        0.0        0.0       0.0      0.0    0.0                  0.0   \n",
       "\n",
       "   alamofire  amazon web services  analysis       ...        web server  \\\n",
       "0        0.0                  0.0       0.0       ...               0.0   \n",
       "1        0.0                  0.0       0.0       ...               0.0   \n",
       "2        0.0                  0.0       0.0       ...               0.0   \n",
       "3        0.0                  0.0       0.0       ...               0.0   \n",
       "4        0.0                  0.0       0.0       ...               0.0   \n",
       "\n",
       "   webpack  websocket  windows  wordpress  wpf  xaml  xcode  xml  \\\n",
       "0      0.0        0.0      0.0        0.0  0.0   0.0    0.0  0.0   \n",
       "1      0.0        0.0      0.0        0.0  0.0   0.0    0.0  0.0   \n",
       "2      0.0        0.0      0.0        0.0  0.0   0.0    0.0  0.0   \n",
       "3      0.0        0.0      0.0        0.0  0.0   0.0    0.0  0.0   \n",
       "4      0.0        0.0      0.0        0.0  0.0   0.0    0.0  0.0   \n",
       "\n",
       "   zend framework  \n",
       "0             0.0  \n",
       "1             0.0  \n",
       "2             0.0  \n",
       "3             0.0  \n",
       "4             0.0  \n",
       "\n",
       "[5 rows x 242 columns]"
      ]
     },
     "execution_count": 942,
     "metadata": {},
     "output_type": "execute_result"
    }
   ],
   "source": [
    "# Just to see how it looks after filling the NaN values with 0\n",
    "jobs_df.head(5)"
   ]
  },
  {
   "cell_type": "code",
   "execution_count": 943,
   "metadata": {},
   "outputs": [
    {
     "data": {
      "text/plain": [
       "city\n",
       "Amsterdam             4\n",
       "Berlin                4\n",
       "Bertrange             6\n",
       "Brussels              1\n",
       "Calgary               2\n",
       "Den Haag              1\n",
       "Dublin                2\n",
       "Frankfurt             1\n",
       "Helsinki              4\n",
       "Kelowna               1\n",
       "Kitchener             5\n",
       "Lisbon                1\n",
       "Luxembourg            4\n",
       "Luxembourg City       4\n",
       "Luxembourg City,      6\n",
       "Malta/Gozo            3\n",
       "Melbourne             1\n",
       "Mexico City           2\n",
       "Montreal              2\n",
       "Nuremberg             5\n",
       "Porto                 1\n",
       "Redwood               1\n",
       "Toronto               5\n",
       "Utrecht               5\n",
       "Vancouver            21\n",
       "Victoria              1\n",
       "Waterloo              3\n",
       "Winnipeg              5\n",
       "dtype: int64"
      ]
     },
     "execution_count": 943,
     "metadata": {},
     "output_type": "execute_result"
    }
   ],
   "source": [
    "# Lets see the amount of jobs per city\n",
    "jobs_df.groupby(['city']).size()"
   ]
  },
  {
   "cell_type": "markdown",
   "metadata": {},
   "source": [
    "But it is better to see this in a graphical way"
   ]
  },
  {
   "cell_type": "code",
   "execution_count": 944,
   "metadata": {
    "collapsed": true
   },
   "outputs": [],
   "source": [
    "# Lets import the libraries\n",
    "import matplotlib.pyplot as plt\n",
    "%matplotlib inline"
   ]
  },
  {
   "cell_type": "code",
   "execution_count": 945,
   "metadata": {},
   "outputs": [
    {
     "data": {
      "text/plain": [
       "<matplotlib.axes._subplots.AxesSubplot at 0x2b077cd2668>"
      ]
     },
     "execution_count": 945,
     "metadata": {},
     "output_type": "execute_result"
    },
    {
     "data": {
      "image/png": "[encoded data removed]",
      "text/plain": [
       "<matplotlib.figure.Figure at 0x2b078725ef0>"
      ]
     },
     "metadata": {},
     "output_type": "display_data"
    }
   ],
   "source": [
    "jobs_df['country'].value_counts().plot(kind='barh', legend=True, title='Number of Jobs vs Country', label=\"Jobs per Country\")"
   ]
  },
  {
   "cell_type": "code",
   "execution_count": 946,
   "metadata": {},
   "outputs": [
    {
     "data": {
      "text/plain": [
       "<matplotlib.axes._subplots.AxesSubplot at 0x2b076528940>"
      ]
     },
     "execution_count": 946,
     "metadata": {},
     "output_type": "execute_result"
    },
    {
     "data": {
      "image/png": "[encoded data removed]",
      "text/plain": [
       "<matplotlib.figure.Figure at 0x2b077ce7470>"
      ]
     },
     "metadata": {},
     "output_type": "display_data"
    }
   ],
   "source": [
    "jobs_df['city'].value_counts().plot(kind='barh', legend=True, title='Number of Jobs vs City', label=\"Jobs per City\")"
   ]
  },
  {
   "cell_type": "markdown",
   "metadata": {},
   "source": [
    "And I guess that is why VanHack is call VANhack"
   ]
  },
  {
   "cell_type": "markdown",
   "metadata": {},
   "source": [
    "# Skills Analysis"
   ]
  },
  {
   "cell_type": "code",
   "execution_count": 949,
   "metadata": {
    "collapsed": true
   },
   "outputs": [],
   "source": [
    "# Now lets put Skills on perspective\n",
    "popular_skills = pd.DataFrame(jobs_df.sum())"
   ]
  },
  {
   "cell_type": "code",
   "execution_count": 951,
   "metadata": {
    "collapsed": true
   },
   "outputs": [],
   "source": [
    "popular_skills.columns=['count']"
   ]
  },
  {
   "cell_type": "code",
   "execution_count": 989,
   "metadata": {},
   "outputs": [
    {
     "data": {
      "text/html": [
       "<div>\n",
       "<style>\n",
       "    .dataframe thead tr:only-child th {\n",
       "        text-align: right;\n",
       "    }\n",
       "\n",
       "    .dataframe thead th {\n",
       "        text-align: left;\n",
       "    }\n",
       "\n",
       "    .dataframe tbody tr th {\n",
       "        vertical-align: top;\n",
       "    }\n",
       "</style>\n",
       "<table border=\"1\" class=\"dataframe\">\n",
       "  <thead>\n",
       "    <tr style=\"text-align: right;\">\n",
       "      <th></th>\n",
       "      <th>count</th>\n",
       "    </tr>\n",
       "  </thead>\n",
       "  <tbody>\n",
       "    <tr>\n",
       "      <th>javascript</th>\n",
       "      <td>20</td>\n",
       "    </tr>\n",
       "    <tr>\n",
       "      <th>java</th>\n",
       "      <td>17</td>\n",
       "    </tr>\n",
       "    <tr>\n",
       "      <th>python</th>\n",
       "      <td>15</td>\n",
       "    </tr>\n",
       "    <tr>\n",
       "      <th>css3</th>\n",
       "      <td>13</td>\n",
       "    </tr>\n",
       "    <tr>\n",
       "      <th>sql</th>\n",
       "      <td>13</td>\n",
       "    </tr>\n",
       "    <tr>\n",
       "      <th>html5</th>\n",
       "      <td>12</td>\n",
       "    </tr>\n",
       "    <tr>\n",
       "      <th>aws</th>\n",
       "      <td>12</td>\n",
       "    </tr>\n",
       "    <tr>\n",
       "      <th>c++</th>\n",
       "      <td>10</td>\n",
       "    </tr>\n",
       "    <tr>\n",
       "      <th>c#</th>\n",
       "      <td>10</td>\n",
       "    </tr>\n",
       "    <tr>\n",
       "      <th>react</th>\n",
       "      <td>9</td>\n",
       "    </tr>\n",
       "    <tr>\n",
       "      <th>linux</th>\n",
       "      <td>8</td>\n",
       "    </tr>\n",
       "    <tr>\n",
       "      <th>git</th>\n",
       "      <td>8</td>\n",
       "    </tr>\n",
       "    <tr>\n",
       "      <th>ruby on rails</th>\n",
       "      <td>8</td>\n",
       "    </tr>\n",
       "    <tr>\n",
       "      <th>react.js</th>\n",
       "      <td>7</td>\n",
       "    </tr>\n",
       "    <tr>\n",
       "      <th>english</th>\n",
       "      <td>7</td>\n",
       "    </tr>\n",
       "  </tbody>\n",
       "</table>\n",
       "</div>"
      ],
      "text/plain": [
       "              count\n",
       "javascript       20\n",
       "java             17\n",
       "python           15\n",
       "css3             13\n",
       "sql              13\n",
       "html5            12\n",
       "aws              12\n",
       "c++              10\n",
       "c#               10\n",
       "react             9\n",
       "linux             8\n",
       "git               8\n",
       "ruby on rails     8\n",
       "react.js          7\n",
       "english           7"
      ]
     },
     "execution_count": 989,
     "metadata": {},
     "output_type": "execute_result"
    }
   ],
   "source": [
    "popular_skills.sort_values(by='count', ascending=False).head(15)"
   ]
  },
  {
   "cell_type": "code",
   "execution_count": 953,
   "metadata": {
    "collapsed": true
   },
   "outputs": [],
   "source": [
    "# We need to delete city, country and job_title columns as they are not requiered for the analysis\n",
    "popular_skills = popular_skills.drop(['city','country','job_title'])"
   ]
  },
  {
   "cell_type": "code",
   "execution_count": 954,
   "metadata": {
    "collapsed": true
   },
   "outputs": [],
   "source": [
    "# we can export this dataset for future analysis\n",
    "popular_skills.to_csv('skills.csv')"
   ]
  },
  {
   "cell_type": "markdown",
   "metadata": {},
   "source": [
    "And now we can see the most required skills on the las 100 VanHack jobs, way to go Javascript! \n",
    "...but Luckly form me Python is very important as well!"
   ]
  },
  {
   "cell_type": "code",
   "execution_count": 955,
   "metadata": {
    "scrolled": true
   },
   "outputs": [
    {
     "data": {
      "text/plain": [
       "<matplotlib.axes._subplots.AxesSubplot at 0x2b07820d7b8>"
      ]
     },
     "execution_count": 955,
     "metadata": {},
     "output_type": "execute_result"
    },
    {
     "data": {
      "image/png": "[encoded data removed]",
      "text/plain": [
       "<matplotlib.figure.Figure at 0x2b077ec7908>"
      ]
     },
     "metadata": {},
     "output_type": "display_data"
    }
   ],
   "source": [
    "popular_skills.sort_values(by=['count'], ascending=False).head(20).plot(kind='barh', legend=True, title=\"Most required Skills\", label=\"Skill count\")"
   ]
  },
  {
   "cell_type": "markdown",
   "metadata": {},
   "source": [
    "# Enhance Job Listing"
   ]
  },
  {
   "cell_type": "markdown",
   "metadata": {},
   "source": [
    "Finally lets enhance the job listing obtained on VanHack acquiring data from Glassdoor.\n",
    "First, let see which are the most demanded job titles on VanHack"
   ]
  },
  {
   "cell_type": "code",
   "execution_count": 971,
   "metadata": {},
   "outputs": [
    {
     "data": {
      "text/plain": [
       "<matplotlib.axes._subplots.AxesSubplot at 0x2b077e83898>"
      ]
     },
     "execution_count": 971,
     "metadata": {},
     "output_type": "execute_result"
    },
    {
     "data": {
      "image/png": "[encoded data removed]",
      "text/plain": [
       "<matplotlib.figure.Figure at 0x2b077e89ac8>"
      ]
     },
     "metadata": {},
     "output_type": "display_data"
    }
   ],
   "source": [
    "jobs_df['job_title'].value_counts().head(15).plot(kind='barh', legend=True, title=\"Most demanded Jobs\", label=\"Number of Jobs\")"
   ]
  },
  {
   "cell_type": "markdown",
   "metadata": {},
   "source": [
    "In order to enhance the job listing, lets try to get the average salary for that job position on a site like Glassdoor.com\n",
    "\n",
    "To do that we have to do some more web scrapping but now on the Glassdoor site. The structure of a salary link is the followin one:\n",
    "https://www.glassdoor.com/Salaries/backend-software-engineer-salary-SRCH_KO0,25.htm\n",
    "\n",
    "Where \"backend-software-engineer\" is the correct format for the job title. Additionally the 0,25 means the length of the job title string.\n",
    "\n",
    "Based on this, we need to clean the job_title values on the dataframe, so we can get the information from the site. The next function has this job."
   ]
  },
  {
   "cell_type": "code",
   "execution_count": 957,
   "metadata": {
    "collapsed": true
   },
   "outputs": [],
   "source": [
    "def clean_job_title(title):\n",
    "    delete_list = [\"(m/f)\", \"(\", \")\", \"–\", \"junior\", \"senior\", \"+\", \"#\"]\n",
    "    title = title.lower()\n",
    "    for string_to_delete in delete_list:\n",
    "        title = title.replace(string_to_delete, \"\")\n",
    "    title = title.replace(\" \", \"-\").replace(\"/\", \"-\")\n",
    "    out_string=\"\"\n",
    "    for c in title:\n",
    "        if (len(out_string)>0):\n",
    "            if(c==\"-\"):\n",
    "                if (out_string[-1]!=\"-\"):\n",
    "                    out_string = out_string+c\n",
    "            else:\n",
    "                out_string = out_string+c\n",
    "        else:\n",
    "            out_string = out_string+c\n",
    "    title = out_string\n",
    "    if (title[0]==\"-\"):\n",
    "        title = title[1:]\n",
    "    if (title[-1]==\"-\"):\n",
    "        title = title[:-1]   \n",
    "    return title.encode('ascii', 'ignore').decode('ascii')"
   ]
  },
  {
   "cell_type": "markdown",
   "metadata": {},
   "source": [
    "# Web Scrapping Glassdoor"
   ]
  },
  {
   "cell_type": "markdown",
   "metadata": {},
   "source": [
    "One we have our job titles in the correct format, lets create a function to get the average salary for that position on Glassdoor. Additional to average salary, lets also get the minimum and maximum salary for reference, so the function return a list with the minimum, maximum and average salary for that job position."
   ]
  },
  {
   "cell_type": "code",
   "execution_count": 958,
   "metadata": {
    "collapsed": true
   },
   "outputs": [],
   "source": [
    "def webscrapping_glassdoor_salaries(job_title):\n",
    "    user_agent = 'Mozilla/5.0 (Windows; U; Windows NT 5.1; en-US; rv:1.9.0.7) Gecko/2009021910 Firefox/3.0.7'\n",
    "    headers={'User-Agent':user_agent} \n",
    "    \n",
    "    glassdoor_salaries_base_url= \"https://www.glassdoor.com/Salaries/\"\n",
    "    req = urllib.request.Request(glassdoor_salaries_base_url + job_title + \"-salary-SRCH_KO0,\" + str(len(job_title)) + \".htm\", headers = headers)\n",
    "    print(glassdoor_salaries_base_url + job_title + \"-salary-SRCH_KO0,\" + str(len(job_title)) + \".htm\")\n",
    "    \n",
    "    glassdoor_salaries_page = urllib.request.urlopen(req)\n",
    "    soup_salaries = BeautifulSoup(glassdoor_salaries_page, 'html.parser')\n",
    "    \n",
    "    if (h1_result[0:17] == \"No current report\"):\n",
    "        return([0,0,0])\n",
    "    else:\n",
    "        average_salary = soup_salaries.find(class_='OccMedianBasePayStyle__payNumber')\n",
    "        if not(average_salary):\n",
    "            average_salaries = soup_salaries.findAll('div', attrs={'class':'RangeBarStyle__values flex__justifySpaceBetween flex__container '})\n",
    "            #print(average_salaries[0].text)\n",
    "            min_low = 0\n",
    "            max_high = 0        \n",
    "            for element in average_salaries:\n",
    "                index = element.text.find('K')\n",
    "                if (index>0):\n",
    "                    low_high_salary = element.text.replace('$','')\n",
    "                    low_high_salary = low_high_salary.split('K')\n",
    "                    low_high_salary[2] = 0\n",
    "                    low_high_salary = [int(i) for i in low_high_salary]\n",
    "                    if (min_low==0):\n",
    "                        min_low = low_high_salary[0]\n",
    "                        max_high = low_high_salary[1]\n",
    "                    else:\n",
    "                        if(min_low > low_high_salary[0]):\n",
    "                            min_low = low_high_salary[0]\n",
    "                        if(max_high < low_high_salary[1]):\n",
    "                            max_high = low_high_salary[1]                \n",
    "            return([min_low, max_high, (max_high+min_low)/2])\n",
    "        else:\n",
    "            #print(average_salary.text)\n",
    "            average_salary = int(average_salary.text.replace('$','').replace('K','').replace(',',''))/1000\n",
    "            min_salary = soup_salaries.find('div', attrs={'class':'HistogramStyle__labelWrapper','data-key':'0'})\n",
    "            min_low = int(min_salary.text[:-3].replace('$','').replace('K',''))\n",
    "            max_salary = soup_salaries.find('div', attrs={'class':'HistogramStyle__labelWrapper','data-key':'9'})\n",
    "            max_high = int(max_salary.text[:-4].replace('$','').replace('K',''))\n",
    "            return([min_low,  max_high, average_salary])"
   ]
  },
  {
   "cell_type": "markdown",
   "metadata": {},
   "source": [
    "Now lets build a new dataframe and fill it the salary information. For that lets iterate over the jobs_df dataframe and apply the functions"
   ]
  },
  {
   "cell_type": "code",
   "execution_count": 926,
   "metadata": {},
   "outputs": [
    {
     "name": "stdout",
     "output_type": "stream",
     "text": [
      "data-scientist-machine-learning-engineer\n",
      "https://www.glassdoor.com/Salaries/data-scientist-machine-learning-engineer-salary-SRCH_KO0,40.htm\n",
      "[87, 158, 120.931]\n",
      "data-scientist-marketing-analytics-projects\n",
      "https://www.glassdoor.com/Salaries/data-scientist-marketing-analytics-projects-salary-SRCH_KO0,43.htm\n",
      "[0, 0, 0.0]\n",
      "data-scientist\n",
      "https://www.glassdoor.com/Salaries/data-scientist-salary-SRCH_KO0,14.htm\n",
      "[87, 158, 120.931]\n",
      "java-web-developer\n",
      "https://www.glassdoor.com/Salaries/java-web-developer-salary-SRCH_KO0,18.htm\n",
      "[56, 128, 88.488]\n",
      "operations-engineer-devops\n",
      "https://www.glassdoor.com/Salaries/operations-engineer-devops-salary-SRCH_KO0,26.htm\n",
      "[62, 118, 83.498]\n",
      "software-developer-front-end-web\n",
      "https://www.glassdoor.com/Salaries/software-developer-front-end-web-salary-SRCH_KO0,32.htm\n",
      "[59, 115, 79.604]\n",
      "full-stack-web-developer-remote\n",
      "https://www.glassdoor.com/Salaries/full-stack-web-developer-remote-salary-SRCH_KO0,31.htm\n",
      "[0, 0, 0.0]\n",
      "frontend-software-developer\n",
      "https://www.glassdoor.com/Salaries/frontend-software-developer-salary-SRCH_KO0,27.htm\n",
      "[59, 115, 79.604]\n",
      "python-developer\n",
      "https://www.glassdoor.com/Salaries/python-developer-salary-SRCH_KO0,16.htm\n",
      "[60, 137, 92.0]\n",
      "c-developer\n",
      "https://www.glassdoor.com/Salaries/c-developer-salary-SRCH_KO0,11.htm\n",
      "[66, 138, 92.381]\n",
      "golang-engineer\n",
      "https://www.glassdoor.com/Salaries/golang-engineer-salary-SRCH_KO0,15.htm\n",
      "[55, 112, 77.182]\n",
      "react-developer\n",
      "https://www.glassdoor.com/Salaries/react-developer-salary-SRCH_KO0,15.htm\n",
      "[55, 112, 79.985]\n",
      "c-desktop-developer\n",
      "https://www.glassdoor.com/Salaries/c-desktop-developer-salary-SRCH_KO0,19.htm\n",
      "[56, 128, 88.488]\n",
      "front-end-developer\n",
      "https://www.glassdoor.com/Salaries/front-end-developer-salary-SRCH_KO0,19.htm\n",
      "[61, 118, 88.68]\n",
      "full-stack-developer\n",
      "https://www.glassdoor.com/Salaries/full-stack-developer-salary-SRCH_KO0,20.htm\n",
      "[50, 145, 97.5]\n",
      ".net-developer\n",
      "https://www.glassdoor.com/Salaries/.net-developer-salary-SRCH_KO0,14.htm\n",
      "[61, 104, 79.954]\n",
      "scrum-master\n",
      "https://www.glassdoor.com/Salaries/scrum-master-salary-SRCH_KO0,12.htm\n",
      "[76, 135, 101.298]\n",
      "java-developer\n",
      "https://www.glassdoor.com/Salaries/java-developer-salary-SRCH_KO0,14.htm\n",
      "[55, 98, 72.417]\n",
      "mobile-developer\n",
      "https://www.glassdoor.com/Salaries/mobile-developer-salary-SRCH_KO0,16.htm\n",
      "[70, 135, 97.986]\n",
      "back-end-software-engineer\n",
      "https://www.glassdoor.com/Salaries/back-end-software-engineer-salary-SRCH_KO0,26.htm\n",
      "[69, 153, 104.463]\n",
      "front-end-software-engineer\n",
      "https://www.glassdoor.com/Salaries/front-end-software-engineer-salary-SRCH_KO0,27.htm\n",
      "[69, 153, 104.463]\n",
      "ios-developer\n",
      "https://www.glassdoor.com/Salaries/ios-developer-salary-SRCH_KO0,13.htm\n",
      "[73, 152, 107.829]\n",
      "analytics-lead-developer\n",
      "https://www.glassdoor.com/Salaries/analytics-lead-developer-salary-SRCH_KO0,24.htm\n",
      "[76, 170, 105.749]\n",
      "graphic-designer-project-manager\n",
      "https://www.glassdoor.com/Salaries/graphic-designer-project-manager-salary-SRCH_KO0,32.htm\n",
      "[46, 92, 63.189]\n",
      "ios-developer\n",
      "https://www.glassdoor.com/Salaries/ios-developer-salary-SRCH_KO0,13.htm\n",
      "[73, 152, 107.829]\n",
      "java-developer\n",
      "https://www.glassdoor.com/Salaries/java-developer-salary-SRCH_KO0,14.htm\n",
      "[55, 98, 72.417]\n",
      "ml-machine-learning-ai-nlp-engineer\n",
      "https://www.glassdoor.com/Salaries/ml-machine-learning-ai-nlp-engineer-salary-SRCH_KO0,35.htm\n",
      "[0, 0, 0.0]\n",
      "ml-machine-learning-ai-nlp-engineer\n",
      "https://www.glassdoor.com/Salaries/ml-machine-learning-ai-nlp-engineer-salary-SRCH_KO0,35.htm\n",
      "[0, 0, 0.0]\n",
      "mac-os-developer\n",
      "https://www.glassdoor.com/Salaries/mac-os-developer-salary-SRCH_KO0,16.htm\n",
      "[0, 0, 0.0]\n",
      "java-engineer\n",
      "https://www.glassdoor.com/Salaries/java-engineer-salary-SRCH_KO0,13.htm\n",
      "[69, 126, 101.59]\n",
      "ruby-on-rails-developer\n",
      "https://www.glassdoor.com/Salaries/ruby-on-rails-developer-salary-SRCH_KO0,23.htm\n",
      "[12, 91, 74.799]\n",
      "blockchain-technologies-developer\n",
      "https://www.glassdoor.com/Salaries/blockchain-technologies-developer-salary-SRCH_KO0,33.htm\n",
      "[0, 0, 0.0]\n",
      "react-developer\n",
      "https://www.glassdoor.com/Salaries/react-developer-salary-SRCH_KO0,15.htm\n",
      "[55, 112, 79.985]\n",
      "software-engineer\n",
      "https://www.glassdoor.com/Salaries/software-engineer-salary-SRCH_KO0,17.htm\n",
      "[69, 153, 104.463]\n",
      "full-stack-javascript-engineer\n",
      "https://www.glassdoor.com/Salaries/full-stack-javascript-engineer-salary-SRCH_KO0,30.htm\n",
      "[66, 125, 91.92]\n",
      "vp-engineering\n",
      "https://www.glassdoor.com/Salaries/vp-engineering-salary-SRCH_KO0,14.htm\n",
      "[132, 250, 188.442]\n",
      "python-&-spark-developer\n",
      "https://www.glassdoor.com/Salaries/python-&-spark-developer-salary-SRCH_KO0,24.htm\n",
      "[0, 0, 0.0]\n",
      "blockchain-technologies-developer\n",
      "https://www.glassdoor.com/Salaries/blockchain-technologies-developer-salary-SRCH_KO0,33.htm\n",
      "[0, 0, 0.0]\n",
      "full-stack-developer\n",
      "https://www.glassdoor.com/Salaries/full-stack-developer-salary-SRCH_KO0,20.htm\n",
      "[50, 146, 98.0]\n",
      "ruby-on-rails-developer\n",
      "https://www.glassdoor.com/Salaries/ruby-on-rails-developer-salary-SRCH_KO0,23.htm\n",
      "[12, 91, 74.799]\n",
      "devops-backend-engineer\n",
      "https://www.glassdoor.com/Salaries/devops-backend-engineer-salary-SRCH_KO0,23.htm\n",
      "[0, 0, 0.0]\n",
      "full-stack-developer\n",
      "https://www.glassdoor.com/Salaries/full-stack-developer-salary-SRCH_KO0,20.htm\n",
      "[50, 145, 97.5]\n",
      "java-developer\n",
      "https://www.glassdoor.com/Salaries/java-developer-salary-SRCH_KO0,14.htm\n",
      "[55, 98, 72.417]\n",
      "back-end-developer\n",
      "https://www.glassdoor.com/Salaries/back-end-developer-salary-SRCH_KO0,18.htm\n",
      "[40, 168, 104.0]\n",
      "ios-developer\n",
      "https://www.glassdoor.com/Salaries/ios-developer-salary-SRCH_KO0,13.htm\n",
      "[73, 152, 107.829]\n",
      "devops-engineer\n",
      "https://www.glassdoor.com/Salaries/devops-engineer-salary-SRCH_KO0,15.htm\n",
      "[105, 152, 138.378]\n",
      "lead-developer\n",
      "https://www.glassdoor.com/Salaries/lead-developer-salary-SRCH_KO0,14.htm\n",
      "[74, 143, 104.12]\n",
      "ecommerce-marketer\n",
      "https://www.glassdoor.com/Salaries/ecommerce-marketer-salary-SRCH_KO0,18.htm\n",
      "[31, 67, 47.067]\n",
      "front-end-design-developer\n",
      "https://www.glassdoor.com/Salaries/front-end-design-developer-salary-SRCH_KO0,26.htm\n",
      "[61, 118, 88.68]\n",
      "mobile-developer\n",
      "https://www.glassdoor.com/Salaries/mobile-developer-salary-SRCH_KO0,16.htm\n",
      "[70, 135, 97.986]\n",
      "back-end-developer\n",
      "https://www.glassdoor.com/Salaries/back-end-developer-salary-SRCH_KO0,18.htm\n",
      "[39, 167, 103.0]\n",
      "devops-engineer\n",
      "https://www.glassdoor.com/Salaries/devops-engineer-salary-SRCH_KO0,15.htm\n",
      "[105, 152, 138.378]\n",
      "sharepoint-developer\n",
      "https://www.glassdoor.com/Salaries/sharepoint-developer-salary-SRCH_KO0,20.htm\n",
      "[72, 128, 95.249]\n",
      "software-engineer\n",
      "https://www.glassdoor.com/Salaries/software-engineer-salary-SRCH_KO0,17.htm\n",
      "[69, 153, 104.463]\n",
      "data-architect\n",
      "https://www.glassdoor.com/Salaries/data-architect-salary-SRCH_KO0,14.htm\n",
      "[84, 150, 112.764]\n",
      "software-team-lead\n",
      "https://www.glassdoor.com/Salaries/software-team-lead-salary-SRCH_KO0,18.htm\n",
      "[94, 138, 110.397]\n",
      "manager,-software-development-training\n",
      "https://www.glassdoor.com/Salaries/manager,-software-development-training-salary-SRCH_KO0,38.htm\n",
      "[0, 0, 0.0]\n",
      "salesforce-developer\n",
      "https://www.glassdoor.com/Salaries/salesforce-developer-salary-SRCH_KO0,20.htm\n",
      "[67, 122, 90.36]\n",
      "cloud-systems-engineer-aws\n",
      "https://www.glassdoor.com/Salaries/cloud-systems-engineer-aws-salary-SRCH_KO0,26.htm\n",
      "[0, 0, 0.0]\n",
      "software-developer\n",
      "https://www.glassdoor.com/Salaries/software-developer-salary-SRCH_KO0,18.htm\n",
      "[59, 115, 79.604]\n",
      "groovy-grails-developer\n",
      "https://www.glassdoor.com/Salaries/groovy-grails-developer-salary-SRCH_KO0,23.htm\n",
      "[0, 0, 0.0]\n",
      "software-developer\n",
      "https://www.glassdoor.com/Salaries/software-developer-salary-SRCH_KO0,18.htm\n",
      "[59, 115, 79.604]\n",
      "ui-developer\n",
      "https://www.glassdoor.com/Salaries/ui-developer-salary-SRCH_KO0,12.htm\n",
      "[61, 111, 80.896]\n",
      "application-support-engineer\n",
      "https://www.glassdoor.com/Salaries/application-support-engineer-salary-SRCH_KO0,28.htm\n",
      "[63, 103, 85.259]\n",
      "salesforce-developer\n",
      "https://www.glassdoor.com/Salaries/salesforce-developer-salary-SRCH_KO0,20.htm\n",
      "[67, 122, 90.36]\n",
      "software-architect\n",
      "https://www.glassdoor.com/Salaries/software-architect-salary-SRCH_KO0,18.htm\n",
      "[97, 169, 128.715]\n",
      "react-developer\n",
      "https://www.glassdoor.com/Salaries/react-developer-salary-SRCH_KO0,15.htm\n",
      "[55, 112, 79.985]\n",
      "games-programmer\n",
      "https://www.glassdoor.com/Salaries/games-programmer-salary-SRCH_KO0,16.htm\n",
      "[51, 104, 76.218]\n",
      "c-developer\n",
      "https://www.glassdoor.com/Salaries/c-developer-salary-SRCH_KO0,11.htm\n",
      "[66, 138, 92.381]\n",
      "full-stack-developer-.net\n",
      "https://www.glassdoor.com/Salaries/full-stack-developer-.net-salary-SRCH_KO0,25.htm\n"
     ]
    },
    {
     "name": "stdout",
     "output_type": "stream",
     "text": [
      "[61, 104, 79.954]\n",
      "front-end-developer-intermediate-or\n",
      "https://www.glassdoor.com/Salaries/front-end-developer-intermediate-or-salary-SRCH_KO0,35.htm\n",
      "[0, 0, 0.0]\n",
      "software-architect\n",
      "https://www.glassdoor.com/Salaries/software-architect-salary-SRCH_KO0,18.htm\n",
      "[97, 169, 128.715]\n",
      "sr.-fullstack-engineer\n",
      "https://www.glassdoor.com/Salaries/sr.-fullstack-engineer-salary-SRCH_KO0,22.htm\n",
      "[0, 0, 0.0]\n",
      "drools-developer\n",
      "https://www.glassdoor.com/Salaries/drools-developer-salary-SRCH_KO0,16.htm\n",
      "[0, 0, 0.0]\n",
      "vaadin-developer\n",
      "https://www.glassdoor.com/Salaries/vaadin-developer-salary-SRCH_KO0,16.htm\n",
      "[0, 0, 0.0]\n",
      "ios-developer\n",
      "https://www.glassdoor.com/Salaries/ios-developer-salary-SRCH_KO0,13.htm\n",
      "[73, 152, 107.829]\n",
      "android-developer\n",
      "https://www.glassdoor.com/Salaries/android-developer-salary-SRCH_KO0,17.htm\n",
      "[70, 135, 97.986]\n",
      "react-developer\n",
      "https://www.glassdoor.com/Salaries/react-developer-salary-SRCH_KO0,15.htm\n",
      "[55, 112, 79.985]\n",
      "ruby-on-rails-developer\n",
      "https://www.glassdoor.com/Salaries/ruby-on-rails-developer-salary-SRCH_KO0,23.htm\n",
      "[12, 91, 74.799]\n",
      "front-end-design-developer\n",
      "https://www.glassdoor.com/Salaries/front-end-design-developer-salary-SRCH_KO0,26.htm\n",
      "[61, 118, 88.68]\n",
      "magento-developer\n",
      "https://www.glassdoor.com/Salaries/magento-developer-salary-SRCH_KO0,17.htm\n",
      "[8, 137, 72.5]\n",
      "back-end-software-engineer\n",
      "https://www.glassdoor.com/Salaries/back-end-software-engineer-salary-SRCH_KO0,26.htm\n",
      "[69, 153, 104.463]\n",
      "netsuite-developer\n",
      "https://www.glassdoor.com/Salaries/netsuite-developer-salary-SRCH_KO0,18.htm\n",
      "[77, 99, 88.0]\n",
      "full-stack-software-engineer\n",
      "https://www.glassdoor.com/Salaries/full-stack-software-engineer-salary-SRCH_KO0,28.htm\n",
      "[69, 153, 104.463]\n",
      "customer-1st-and-2nd-level-support-engineer\n",
      "https://www.glassdoor.com/Salaries/customer-1st-and-2nd-level-support-engineer-salary-SRCH_KO0,43.htm\n",
      "[0, 0, 0.0]\n",
      "c-engineer\n",
      "https://www.glassdoor.com/Salaries/c-engineer-salary-SRCH_KO0,10.htm\n",
      "[3, 162, 82.5]\n",
      "back-end-software-engineer\n",
      "https://www.glassdoor.com/Salaries/back-end-software-engineer-salary-SRCH_KO0,26.htm\n",
      "[69, 153, 104.463]\n",
      "front-end-software-engineer\n",
      "https://www.glassdoor.com/Salaries/front-end-software-engineer-salary-SRCH_KO0,27.htm\n",
      "[69, 153, 104.463]\n",
      "c-.net-developer\n",
      "https://www.glassdoor.com/Salaries/c-.net-developer-salary-SRCH_KO0,16.htm\n",
      "[61, 104, 79.954]\n",
      "ruby-on-rails-developer\n",
      "https://www.glassdoor.com/Salaries/ruby-on-rails-developer-salary-SRCH_KO0,23.htm\n",
      "[12, 91, 74.799]\n",
      "c-developer\n",
      "https://www.glassdoor.com/Salaries/c-developer-salary-SRCH_KO0,11.htm\n",
      "[66, 138, 92.381]\n",
      "full-stack-developer\n",
      "https://www.glassdoor.com/Salaries/full-stack-developer-salary-SRCH_KO0,20.htm\n",
      "[49, 145, 97.0]\n",
      "frontend-engineer\n",
      "https://www.glassdoor.com/Salaries/frontend-engineer-salary-SRCH_KO0,17.htm\n",
      "[71, 128, 98.291]\n",
      "server-side-aws-software-engineer\n",
      "https://www.glassdoor.com/Salaries/server-side-aws-software-engineer-salary-SRCH_KO0,33.htm\n",
      "[0, 0, 0.0]\n",
      "full-stack-python-developer\n",
      "https://www.glassdoor.com/Salaries/full-stack-python-developer-salary-SRCH_KO0,27.htm\n",
      "[0, 0, 0.0]\n",
      "full-stack-developer\n",
      "https://www.glassdoor.com/Salaries/full-stack-developer-salary-SRCH_KO0,20.htm\n",
      "[50, 147, 98.5]\n",
      "backend-software-engineer\n",
      "https://www.glassdoor.com/Salaries/backend-software-engineer-salary-SRCH_KO0,25.htm\n",
      "[69, 153, 104.463]\n",
      "front-end-software-engineer\n",
      "https://www.glassdoor.com/Salaries/front-end-software-engineer-salary-SRCH_KO0,27.htm\n",
      "[69, 153, 104.463]\n",
      "backend-software-engineer\n",
      "https://www.glassdoor.com/Salaries/backend-software-engineer-salary-SRCH_KO0,25.htm\n",
      "[69, 153, 104.463]\n",
      "full-stack-developer\n",
      "https://www.glassdoor.com/Salaries/full-stack-developer-salary-SRCH_KO0,20.htm\n",
      "[50, 147, 98.5]\n",
      "front-end-design-developer\n",
      "https://www.glassdoor.com/Salaries/front-end-design-developer-salary-SRCH_KO0,26.htm\n",
      "[61, 118, 88.68]\n",
      "     min_salary_USDK  max_salary_USDK  average_salary_USDK\n",
      "0               87.0            158.0              120.931\n",
      "1                0.0              0.0                0.000\n",
      "2               87.0            158.0              120.931\n",
      "3               56.0            128.0               88.488\n",
      "4               62.0            118.0               83.498\n",
      "5               59.0            115.0               79.604\n",
      "6                0.0              0.0                0.000\n",
      "7               59.0            115.0               79.604\n",
      "8               60.0            137.0               92.000\n",
      "9               66.0            138.0               92.381\n",
      "10              55.0            112.0               77.182\n",
      "11              55.0            112.0               79.985\n",
      "12              56.0            128.0               88.488\n",
      "13              61.0            118.0               88.680\n",
      "14              50.0            145.0               97.500\n",
      "15              61.0            104.0               79.954\n",
      "16              76.0            135.0              101.298\n",
      "17              55.0             98.0               72.417\n",
      "18              70.0            135.0               97.986\n",
      "19              69.0            153.0              104.463\n",
      "20              69.0            153.0              104.463\n",
      "21              73.0            152.0              107.829\n",
      "22              76.0            170.0              105.749\n",
      "23              46.0             92.0               63.189\n",
      "24              73.0            152.0              107.829\n",
      "25              55.0             98.0               72.417\n",
      "26               0.0              0.0                0.000\n",
      "27               0.0              0.0                0.000\n",
      "28               0.0              0.0                0.000\n",
      "29              69.0            126.0              101.590\n",
      "..               ...              ...                  ...\n",
      "71              97.0            169.0              128.715\n",
      "72               0.0              0.0                0.000\n",
      "73               0.0              0.0                0.000\n",
      "74               0.0              0.0                0.000\n",
      "75              73.0            152.0              107.829\n",
      "76              70.0            135.0               97.986\n",
      "77              55.0            112.0               79.985\n",
      "78              12.0             91.0               74.799\n",
      "79              61.0            118.0               88.680\n",
      "80               8.0            137.0               72.500\n",
      "81              69.0            153.0              104.463\n",
      "82              77.0             99.0               88.000\n",
      "83              69.0            153.0              104.463\n",
      "84               0.0              0.0                0.000\n",
      "85               3.0            162.0               82.500\n",
      "86              69.0            153.0              104.463\n",
      "87              69.0            153.0              104.463\n",
      "88              61.0            104.0               79.954\n",
      "89              12.0             91.0               74.799\n",
      "90              66.0            138.0               92.381\n",
      "91              49.0            145.0               97.000\n",
      "92              71.0            128.0               98.291\n",
      "93               0.0              0.0                0.000\n",
      "94               0.0              0.0                0.000\n",
      "95              50.0            147.0               98.500\n",
      "96              69.0            153.0              104.463\n",
      "97              69.0            153.0              104.463\n",
      "98              69.0            153.0              104.463\n",
      "99              50.0            147.0               98.500\n",
      "100             61.0            118.0               88.680\n",
      "\n",
      "[101 rows x 3 columns]\n"
     ]
    }
   ],
   "source": [
    "salaries_columns = ['min_salary_USDK', 'max_salary_USDK', 'average_salary_USDK']\n",
    "salaries = pd.DataFrame(columns=salaries_columns)\n",
    "for index, row in jobs_df.iterrows():    \n",
    "    position = clean_job_title(row['job_title'])\n",
    "    print(position)\n",
    "    glassdoor_ref_salaries = webscrapping_glassdoor_salaries(position)\n",
    "    print(glassdoor_ref_salaries)\n",
    "    salaries.loc[len(salaries)] = glassdoor_ref_salaries\n",
    "print(salaries)    "
   ]
  },
  {
   "cell_type": "code",
   "execution_count": 959,
   "metadata": {},
   "outputs": [
    {
     "data": {
      "text/plain": [
       "(101, 3)"
      ]
     },
     "execution_count": 959,
     "metadata": {},
     "output_type": "execute_result"
    }
   ],
   "source": [
    "# Lets see the shape of the salaries dataframe\n",
    "salaries.shape"
   ]
  },
  {
   "cell_type": "markdown",
   "metadata": {},
   "source": [
    "Now that we have our salaries we can join these columns to the jobs dataframe so we can play with all the data"
   ]
  },
  {
   "cell_type": "code",
   "execution_count": 962,
   "metadata": {
    "collapsed": true
   },
   "outputs": [],
   "source": [
    "jobs_df = jobs_df.join(salaries)"
   ]
  },
  {
   "cell_type": "code",
   "execution_count": 978,
   "metadata": {
    "collapsed": true
   },
   "outputs": [],
   "source": [
    "#jobs_df.groupby([\"job_title\"])[\"average_salary_USDK\"].mean().plot(x=\"test\", kind='barh', title=\"Average Salary by Job Title\")\n",
    "jobs_vs_salary = pd.DataFrame(jobs_df.groupby('job_title', sort=True)['average_salary_USDK'].mean().head(15))"
   ]
  },
  {
   "cell_type": "code",
   "execution_count": 985,
   "metadata": {},
   "outputs": [
    {
     "data": {
      "text/plain": [
       "<matplotlib.axes._subplots.AxesSubplot at 0x2b077abf4a8>"
      ]
     },
     "execution_count": 985,
     "metadata": {},
     "output_type": "execute_result"
    },
    {
     "data": {
      "image/png": "[encoded data removed]",
      "text/plain": [
       "<matplotlib.figure.Figure at 0x2b0779794a8>"
      ]
     },
     "metadata": {},
     "output_type": "display_data"
    }
   ],
   "source": [
    "jobs_vs_salary.sort_values(by='average_salary_USDK').plot.barh(title= )"
   ]
  },
  {
   "cell_type": "markdown",
   "metadata": {},
   "source": [
    "Result that is very inspiring for people like me working on Data Science! ;)"
   ]
  }
 ],
 "metadata": {
  "kernelspec": {
   "display_name": "Python 3",
   "language": "python",
   "name": "python3"
  },
  "language_info": {
   "codemirror_mode": {
    "name": "ipython",
    "version": 3
   },
   "file_extension": ".py",
   "mimetype": "text/x-python",
   "name": "python",
   "nbconvert_exporter": "python",
   "pygments_lexer": "ipython3",
   "version": "3.6.3"
  }
 },
 "nbformat": 4,
 "nbformat_minor": 2
}
